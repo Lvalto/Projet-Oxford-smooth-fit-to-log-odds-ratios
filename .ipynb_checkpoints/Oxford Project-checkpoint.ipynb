{
 "cells": [
  {
   "cell_type": "markdown",
   "id": "a50067cf",
   "metadata": {},
   "source": [
    "## Présentation des données"
   ]
  },
  {
   "cell_type": "code",
   "execution_count": 1,
   "id": "2bd1d07d",
   "metadata": {},
   "outputs": [],
   "source": [
    "#Téléchargement des données\n",
    "K = 120\n",
    "r1 = [3, 5, 2, 7, 7, 2, 5, 3, 5, 11, 6, 6, 11, 4, 4, 2, 8, 8, 6, \n",
    "5, 15, 4, 9, 9, 4, 12, 8, 8, 6, 8, 12, 4, 7, 16, 12, 9, 4, 7, \n",
    "8, 11, 5, 12, 8, 17, 9, 3, 2, 7, 6, 5, 11, 14, 13, 8, 6, 4, 8, \n",
    "4, 8, 7, 15, 15, 9, 9, 5, 6, 3, 9, 12, 14, 16, 17, 8, 8, 9, 5, \n",
    "9, 11, 6, 14, 21, 16, 6, 9, 8, 9, 8, 4, 11, 11, 6, 9, 4, 4, 9, \n",
    "9, 10, 14, 6, 3, 4, 6, 10, 4, 3, 3, 10, 4, 10, 5, 4, 3, 13, 1, \n",
    "7, 5, 7, 6, 3, 7]\n",
    "\n",
    "n1 = [28, 21, 32, 35, 35, 38, 30, 43, 49, 53, 31, 35, 46, 53, 61, \n",
    "40, 29, 44, 52, 55, 61, 31, 48, 44, 42, 53, 56, 71, 43, 43, 43, \n",
    "40, 44, 70, 75, 71, 37, 31, 42, 46, 47, 55, 63, 91, 43, 39, 35, \n",
    "32, 53, 49, 75, 64, 69, 64, 49, 29, 40, 27, 48, 43, 61, 77, 55, \n",
    "60, 46, 28, 33, 32, 46, 57, 56, 78, 58, 52, 31, 28, 46, 42, 45, \n",
    "63, 71, 69, 43, 50, 31, 34, 54, 46, 58, 62, 52, 41, 34, 52, 63, \n",
    "59, 88, 62, 47, 53, 57, 74, 68, 61, 45, 45, 62, 73, 53, 39, 45, \n",
    "51, 55, 41, 53, 51, 42, 46, 54, 32]\n",
    "\n",
    "r0 = [0, 2, 2, 1, 2, 0, 1, 1, 1, 2, 4, 4, 2, 1, 7, 4, 3, 5, 3, 2, \n",
    "4, 1, 4, 5, 2, 7, 5, 8, 2, 3, 5, 4, 1, 6, 5, 11, 5, 2, 5, 8, \n",
    "5, 6, 6, 10, 7, 5, 5, 2, 8, 1, 13, 9, 11, 9, 4, 4, 8, 6, 8, 6, \n",
    "8, 14, 6, 5, 5, 2, 4, 2, 9, 5, 6, 7, 5, 10, 3, 2, 1, 7, 9, 13, \n",
    "9, 11, 4, 8, 2, 3, 7, 4, 7, 5, 6, 6, 5, 6, 9, 7, 7, 7, 4, 2, \n",
    "3, 4, 10, 3, 4, 2, 10, 5, 4, 5, 4, 6, 5, 3, 2, 2, 4, 6, 4, 1]\n",
    "\n",
    "n0 = [28, 21, 32, 35, 35, 38, 30, 43, 49, 53, 31, 35, 46, 53, 61, \n",
    "40, 29, 44, 52, 55, 61, 31, 48, 44, 42, 53, 56, 71, 43, 43, 43, \n",
    "40, 44, 70, 75, 71, 37, 31, 42, 46, 47, 55, 63, 91, 43, 39, 35, \n",
    "32, 53, 49, 75, 64, 69, 64, 49, 29, 40, 27, 48, 43, 61, 77, 55, \n",
    "60, 46, 28, 33, 32, 46, 57, 56, 78, 58, 52, 31, 28, 46, 42, 45, \n",
    "63, 71, 69, 43, 50, 31, 34, 54, 46, 58, 62, 52, 41, 34, 52, 63, \n",
    "59, 88, 62, 47, 53, 57, 74, 68, 61, 45, 45, 62, 73, 53, 39, 45, \n",
    "51, 55, 41, 53, 51, 42, 46, 54, 32]\n",
    "\n",
    "year = [-10, -9, -9, -8, -8, -8, -7, -7, -7, -7, -6, -6, -6, -6, -6, \n",
    "-5, -5, -5, -5, -5, -5, -4, -4, -4, -4, -4, -4, -4, -3, -3, -3, \n",
    "-3, -3, -3, -3, -3, -2, -2, -2, -2, -2, -2, -2, -2, -2, -1, -1, \n",
    "-1, -1, -1, -1, -1, -1, -1, -1, 0, 0, 0, 0, 0, 0, 0, 0, 0, 0, \n",
    "1, 1, 1, 1, 1, 1, 1, 1, 1, 1, 2, 2, 2, 2, 2, 2, 2, 2, 2, 3, 3, \n",
    "3, 3, 3, 3, 3, 3, 4, 4, 4, 4, 4, 4, 4, 5, 5, 5, 5, 5, 5, 6, 6, \n",
    "6, 6, 6, 7, 7, 7, 7, 8, 8, 8, 9, 9, 10]\n"
   ]
  },
  {
   "cell_type": "code",
   "execution_count": 2,
   "id": "680065c5",
   "metadata": {},
   "outputs": [
    {
     "data": {
      "text/plain": [
       "120"
      ]
     },
     "execution_count": 2,
     "metadata": {},
     "output_type": "execute_result"
    }
   ],
   "source": [
    "1944 : on prend les enfants juste nés cette année (size sample = 1)\n",
    "1945 : on prends les enfants juste nés + l année N-1 (size sample = 2)\n",
    "    ...\n",
    "1963 : on prend les enfants nés en 1953, 1954 mais pas les années suivantes car les enfants n arriveront pas à la maturité de 9 ans (size sample = 2)\n",
    "1964 : on prend les enfants nés en 1954 (size sample = 1)"
   ]
  },
  {
   "cell_type": "markdown",
   "id": "9c477acf",
   "metadata": {},
   "source": [
    "## Modèle mathématique"
   ]
  },
  {
   "cell_type": "markdown",
   "id": "b254d717",
   "metadata": {},
   "source": [
    "#### Loi a posteriori de $\\alpha$"
   ]
  },
  {
   "cell_type": "markdown",
   "id": "31aa7919",
   "metadata": {},
   "source": [
    "$\\pi(\\alpha|...) \\propto \\pi(\\alpha)\\prod_{i=1}\\pi(r^{1}_i|\\alpha,\\mu_i,\\beta_1,\\beta_2,b_i,\\sigma^i)$\n",
    "\n",
    "$\\pi(\\alpha|...) \\propto e^{-\\frac{\\alpha^2}{2.10^6}} \\prod_{i=1}(p_i^1)^{r_i^1}.(1-p_i^1)^{n_i^1-r_i^1}$\n",
    "\n",
    "$\\pi(\\alpha|...) \\propto N(0,1000) $"
   ]
  },
  {
   "cell_type": "markdown",
   "id": "bd875aa0",
   "metadata": {},
   "source": [
    "#### Loi a posteriori de $\\beta_1$"
   ]
  },
  {
   "cell_type": "markdown",
   "id": "bbac89ca",
   "metadata": {},
   "source": [
    "$\\pi(\\beta_1|...) \\propto \\pi(\\beta_1)\\prod_{i=1}\\pi(r^{1}_i|\\alpha\\mu_i,\\beta_1,\\beta_2,b_i,\\sigma^i)$\n",
    "\n",
    "$\\pi(\\beta_1|...) \\propto e^{-\\frac{\\beta_1^2}{2.10^6}} \\prod_{i=1}(p_i^1)^{r_i^1}.(1-p_i^1)^{n_i^1-r_i^1}$\n",
    "\n",
    "$\\pi(\\beta_1|...) \\propto N(0,1000) $"
   ]
  },
  {
   "cell_type": "markdown",
   "id": "d67af911",
   "metadata": {},
   "source": [
    "#### Loi a posteriori de $\\beta_2$"
   ]
  },
  {
   "cell_type": "markdown",
   "id": "03e84c81",
   "metadata": {},
   "source": [
    "$\\pi(\\beta_2|...) \\propto \\pi(\\beta_2)\\prod_{i=1}\\pi(r^{1}_i|\\alpha,\\mu_i,\\beta_1,\\beta_2,b_i,\\sigma^i)$\n",
    "\n",
    "$\\pi(\\beta_2|...) \\propto e^{-\\frac{\\beta_2^2}{2.10^6}} \\prod_{i=1}(p_i^1)^{r_i^1}.(1-p_i^1)^{n_i^1-r_i^1}$\n",
    "\n",
    "$\\pi(\\beta_2|...) \\propto N(0,1000) $"
   ]
  },
  {
   "cell_type": "markdown",
   "id": "aee205f0",
   "metadata": {},
   "source": [
    "#### Loi a posteriori de $\\mu_i$"
   ]
  },
  {
   "cell_type": "markdown",
   "id": "56806064",
   "metadata": {},
   "source": [
    "$\\pi(\\mu_i|...) \\propto \\pi(\\mu_i)\\prod_{i=1}\\pi(r^{1}_i|\\alpha,\\mu_i,\\beta_1,\\beta_2,b_i,\\sigma^2)$\n",
    "\n",
    "$\\pi(\\mu_i|...) \\propto e^{-\\frac{\\mu_i^2}{2.10^6}} \\prod_{i=1}(p_i^1)^{r_i^1}.(1-p_i^1)^{n_i^1-r_i^1}$\n",
    "\n",
    "$\\pi(\\mu_i|...) \\propto N(0,1000) $"
   ]
  },
  {
   "cell_type": "markdown",
   "id": "db8a14d3",
   "metadata": {},
   "source": [
    "#### Loi a posteriori de $bi_i$"
   ]
  },
  {
   "cell_type": "markdown",
   "id": "546f2dc4",
   "metadata": {},
   "source": [
    "$\\pi(b_i|...) \\propto \\pi(b_i|\\sigma^2)\\prod_{i=1}\\pi(r^{1}_i|\\alpha,\\mu_i,\\beta_1,\\beta_2,b_i,\\sigma^2)$\n",
    "\n",
    "$\\pi(b_i|...) \\propto e^{-\\frac{b_i^2}{2.\\sigma^2}} \\prod_{i=1}(p_i^1)^{r_i^1}.(1-p_i^1)^{n_i^1-r_i^1}$\n",
    "\n",
    "$\\pi(b_i|...) \\propto N(0,\\sigma^2) $"
   ]
  },
  {
   "cell_type": "markdown",
   "id": "e735271c",
   "metadata": {},
   "source": [
    "#### Loi a posteriori de $\\sigma$"
   ]
  },
  {
   "cell_type": "markdown",
   "id": "204211b7",
   "metadata": {},
   "source": [
    "$\\pi(b_i|...) \\propto \\pi(\\sigma^2)\\prod_{i=1}\\pi(b_i|\\sigma^2)$\n",
    "\n",
    "$\\pi(b_i|...) \\propto (\\frac{1}{\\sigma^2})^{\\alpha + 1}.e^{-\\frac{\\beta}{\\sigma^2}} \\prod_{i=1}e^{...}$\n",
    "\n",
    "$\\pi(b_i|...) \\propto InvGamma(0.001,0.001) $"
   ]
  },
  {
   "cell_type": "code",
   "execution_count": null,
   "id": "4fde693f",
   "metadata": {},
   "outputs": [],
   "source": []
  }
 ],
 "metadata": {
  "kernelspec": {
   "display_name": "Python 3 (ipykernel)",
   "language": "python",
   "name": "python3"
  },
  "language_info": {
   "codemirror_mode": {
    "name": "ipython",
    "version": 3
   },
   "file_extension": ".py",
   "mimetype": "text/x-python",
   "name": "python",
   "nbconvert_exporter": "python",
   "pygments_lexer": "ipython3",
   "version": "3.9.7"
  }
 },
 "nbformat": 4,
 "nbformat_minor": 5
}
