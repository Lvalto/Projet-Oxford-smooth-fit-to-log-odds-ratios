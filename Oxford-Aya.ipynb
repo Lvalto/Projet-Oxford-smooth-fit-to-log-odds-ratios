{
 "cells": [
  {
   "cell_type": "code",
   "execution_count": 58,
   "id": "a0478aff",
   "metadata": {},
   "outputs": [],
   "source": [
    "import numpy as np\n",
    "import matplotlib.pyplot as plt\n",
    "from scipy.special import expit"
   ]
  },
  {
   "cell_type": "code",
   "execution_count": 59,
   "id": "f6d11243",
   "metadata": {},
   "outputs": [],
   "source": [
    "K = 120\n",
    "r1 = np.array([3, 5, 2, 7, 7, 2, 5, 3, 5, 11, 6, 6, 11, 4, 4, 2, 8, 8, 6,  \n",
    "               5, 15, 4, 9, 9, 4, 12, 8, 8, 6, 8, 12, 4, 7, 16, 12, 9, 4, 7, \n",
    "               8, 11, 5, 12, 8, 17, 9, 3, 2, 7, 6, 5, 11, 14, 13, 8, 6, 4, 8, \n",
    "               4, 8, 7, 15, 15, 9, 9, 5, 6, 3, 9, 12, 14, 16, 17, 8, 8, 9, 5, \n",
    "               9, 11, 6, 14, 21, 16, 6, 9, 8, 9, 8, 4, 11, 11, 6, 9, 4, 4, 9, \n",
    "               9, 10, 14, 6, 3, 4, 6, 10, 4, 3, 3, 10, 4, 10, 5, 4, 3, 13, 1, \n",
    "               7, 5, 7, 6, 3, 7])\n",
    "n1 = np.array([28, 21, 32, 35, 35, 38, 30, 43, 49, 53, 31, 35, 46, 53, 61, \n",
    "               40, 29, 44, 52, 55, 61, 31, 48, 44, 42, 53, 56, 71, 43, 43, 43, \n",
    "               40, 44, 70, 75, 71, 37, 31, 42, 46, 47, 55, 63, 91, 43, 39, 35, \n",
    "               32, 53, 49, 75, 64, 69, 64, 49, 29, 40, 27, 48, 43, 61, 77, 55, \n",
    "               60, 46, 28, 33, 32, 46, 57, 56, 78, 58, 52, 31, 28, 46, 42, 45, \n",
    "               63, 71, 69, 43, 50, 31, 34, 54, 46, 58, 62, 52, 41, 34, 52, 63, \n",
    "               59, 88, 62, 47, 53, 57, 74, 68, 61, 45, 45, 62, 73, 53, 39, 45, \n",
    "               51, 55, 41, 53, 51, 42, 46, 54, 32])\n",
    "r0 = np.array([0, 2, 2, 1, 2, 0, 1, 1, 1, 2, 4, 4, 2, 1, 7, 4, 3, 5, 3, 2, \n",
    "               4, 1, 4, 5, 2, 7, 5, 8, 2, 3, 5, 4, 1, 6, 5, 11, 5, 2, 5, 8, \n",
    "               5, 6, 6, 10, 7, 5, 5, 2, 8, 1, 13, 9, 11, 9, 4, 4, 8, 6, 8, 6, \n",
    "               8, 14, 6, 5, 5, 2, 4, 2, 9, 5, 6, 7, 5, 10, 3, 2, 1, 7, 9, 13, \n",
    "               9, 11, 4, 8, 2, 3, 7, 4, 7, 5, 6, 6, 5, 6, 9, 7, 7, 7, 4, 2, \n",
    "               3, 4, 10, 3, 4, 2, 10, 5, 4, 5, 4, 6, 5, 3, 2, 2, 4, 6, 4, 1])\n",
    "n0 = np.array([28, 21, 32, 35, 35, 38, 30, 43, 49, 53, 31, 35, 46, 53, 61, \n",
    "               40, 29, 44, 52, 55, 61, 31, 48, 44, 42, 53, 56, 71, 43, 43, 43, \n",
    "               40, 44, 70, 75, 71, 37, 31, 42, 46, 47, 55, 63, 91, 43, 39, 35, \n",
    "               32, 53, 49, 75, 64, 69, 64, 49, 29, 40, 27, 48, 43, 61, 77, 55, \n",
    "               60, 46, 28, 33, 32, 46, 57, 56, 78, 58, 52, 31, 28, 46, 42, 45, \n",
    "               63, 71, 69, 43, 50, 31, 34, 54, 46, 58, 62, 52, 41, 34, 52, 63, \n",
    "               59, 88, 62, 47, 53, 57, 74, 68, 61, 45, 45, 62, 73, 53, 39, 45, \n",
    "               51, 55, 41, 53, 51, 42, 46, 54, 32])\n",
    "year = np.array([-10, -9, -9, -8, -8, -8, -7, -7, -7, -7, -6, -6, -6, -6, -6, \n",
    "                 -5, -5, -5, -5, -5, -5, -4, -4, -4, -4, -4, -4, -4, -3, -3, -3, \n",
    "                 -3, -3, -3, -3, -3, -2, -2, -2, -2, -2, -2, -2, -2, -2, -1, -1, \n",
    "                 -1, -1, -1, -1, -1, -1, -1, -1, 0, 0, 0, 0, 0, 0, 0, 0, 0, 0, \n",
    "                 1, 1, 1, 1, 1, 1, 1, 1, 1, 1, 2, 2, 2, 2, 2, 2, 2, 2, 2, 3, 3, \n",
    "                 3, 3, 3, 3, 3, 3, 4, 4, 4, 4, 4, 4, 4, 5, 5, 5, 5, 5, 5, 6, 6, \n",
    "                 6, 6, 6, 7, 7, 7, 7, 8, 8, 8, 9, 9, 10])"
   ]
  },
  {
   "cell_type": "code",
   "execution_count": 60,
   "id": "5ea280a0",
   "metadata": {},
   "outputs": [
    {
     "data": {
      "text/plain": [
       "[True, True, True, True, True]"
      ]
     },
     "execution_count": 60,
     "metadata": {},
     "output_type": "execute_result"
    }
   ],
   "source": [
    "[len(r1) == K, len(n1) == K, len(r0) == K, len(n0) == K, len(year) == K]"
   ]
  },
  {
   "cell_type": "code",
   "execution_count": 61,
   "id": "bdad5a3c",
   "metadata": {},
   "outputs": [],
   "source": [
    "init_alpha = 0\n",
    "init_beta1 = 0\n",
    "init_beta2 = 0\n",
    "init_sigma = 1\n",
    "init_mu = np.zeros(120)\n",
    "init_b  = np.zeros(120)"
   ]
  },
  {
   "cell_type": "code",
   "execution_count": 62,
   "id": "898889bc",
   "metadata": {},
   "outputs": [],
   "source": [
    "def Sampler(nchain, init_alpha, init_beta1, init_beta2, init_sigma, init_mu, init_b, prop_sd, K, r1, n1, r0, n0, year):\n",
    "    \n",
    "    chain = np.empty((nchain+1, 6), dtype = object)\n",
    "    chain[0,0] = init_alpha\n",
    "    chain[0,1] = init_beta1\n",
    "    chain[0,2] = init_beta2\n",
    "    chain[0,3] = init_mu\n",
    "    chain[0,4] = init_b\n",
    "    chain[0,5] = init_sigma\n",
    "    \n",
    "    alpha = init_alpha\n",
    "    beta1 = init_beta1\n",
    "    beta2 = init_beta2\n",
    "    mu = init_mu\n",
    "    b = init_b\n",
    "    sigma = init_sigma\n",
    "    \n",
    "    log_psi = alpha + beta1 * year + beta2 * (year**2 - 22) + b\n",
    "    p0 = expit(mu)\n",
    "    p1 = expit(mu + log_psi)\n",
    "    \n",
    "    \n",
    "    for i in range(nchain):\n",
    "        \n",
    "        # Mise à jour de alpha\n",
    "        prop = np.random.normal(alpha, prop_sd[0])\n",
    "        prop_log_psi = prop + beta1 * year + beta2 * (year**2 - 22) + b\n",
    "        prop_p1 = expit(mu + prop_log_psi)\n",
    "        \n",
    "        top = - (prop**2 / (2 * 1e6)) + sum(r1 * np.log(prop_p1)) + sum((n1 - r1) * np.log(1 - prop_p1))\n",
    "        bottom = - (alpha**2 / (2 * 1e6)) + sum(r1 * np.log(p1)) + sum((n1 - r1) * np.log(1 - p1))\n",
    "        \n",
    "        acc_prob = np.exp(top - bottom)\n",
    "        \n",
    "        print('hehe_alpha')\n",
    "        \n",
    "        if np.random.uniform() < acc_prob:\n",
    "            alpha = prop\n",
    "            log_psi = prop_log_psi\n",
    "            p1 = prop_p1\n",
    "        \n",
    "        # Mise à jour de beta1\n",
    "        prop = np.random.normal(beta1, prop_sd[1])\n",
    "        prop_log_psi = alpha + prop * year + beta2 * (year**2 - 22) + b\n",
    "        prop_p1 = expit(mu + prop_log_psi)\n",
    "        \n",
    "        top = - (prop**2 / (2 * 1e6)) + sum(r1 * np.log(prop_p1)) + sum((n1 - r1) * np.log(1 - prop_p1))\n",
    "        bottom = - (beta1**2 / (2 * 1e6)) + sum(r1 * np.log(p1)) + sum((n1 - r1) * np.log(1 - p1))\n",
    "        \n",
    "        acc_prob = np.exp(top - bottom)\n",
    "        \n",
    "        print('hehe_beta1')\n",
    "        if np.random.uniform() < acc_prob:\n",
    "            beta1 = prop\n",
    "            log_psi = prop_log_psi\n",
    "            p1 = prop_p1\n",
    "            \n",
    "        # Mise à jour de beta2\n",
    "        prop = np.random.normal(beta2, prop_sd[2])\n",
    "        prop_log_psi = alpha + beta1 * year + prop * (year**2 - 22) + b\n",
    "        prop_p1 = expit(mu + prop_log_psi)\n",
    "        \n",
    "        top = - (prop**2 / (2 * 1e6)) + sum(r1 * np.log(prop_p1)) + sum((n1 - r1) * np.log(1 - prop_p1))\n",
    "        bottom = - (beta2**2 / (2 * 1e6)) + sum(r1 * np.log(p1)) + sum((n1 - r1) * np.log(1 - p1))\n",
    "        \n",
    "        acc_prob = np.exp(top - bottom)\n",
    "        \n",
    "        print('hehe_beta2')\n",
    "        if np.random.uniform() < acc_prob:\n",
    "            beta2 = prop\n",
    "            log_psi = prop_log_psi\n",
    "            p1 = prop_p1\n",
    "            \n",
    "        for j in range(K):\n",
    "            # Mise à jour de mu\n",
    "            ## même prop_sd pour tous?\n",
    "            ##générer tout le vecteur à la fois o générer chaque mu_j séparément\n",
    "            prop = np.random.normal(mu[j], prop_sd[3])\n",
    "            prop_p0_j = expit(prop) \n",
    "            \n",
    "            top = - (prop**2 / (2 * 1e6)) + r0[j] * np.log(prop_p0_j) + (n0[j] - r0[j]) * np.log(1 - prop_p0_j)\n",
    "            bottom = - (mu[j]**2 / (2 * 1e6)) + r0[j] * np.log(p0[j]) + (n0[j] - r0[j]) * np.log(1 - p0[j])\n",
    "            \n",
    "            acc_prob = np.exp(top - bottom)\n",
    "            if np.random.uniform() < acc_prob:\n",
    "                mu[j] = prop\n",
    "                p0[j] = prop_p0_j\n",
    "                \n",
    "            # Mise à jour de b\n",
    "            prop = np.random.normal(b[j], prop_sd[4])\n",
    "            prop_p1_j = expit(prop + log_psi[j])\n",
    "            \n",
    "            top = - (prop**2 / (2 * sigma)) + r1[j] * np.log(prop_p1_j) + (n1[j] - r1[j]) * np.log(1 - prop_p1_j)\n",
    "            bottom = - (b[j]**2 / (2 * sigma)) + r1[j] * np.log(p1[j]) + (n1[j] - r1[j]) * np.log(1 - p1[j])\n",
    "            \n",
    "            acc_prob = np.exp(top - bottom)\n",
    "            if np.random.uniform() < acc_prob:\n",
    "                b[j] = prop\n",
    "                p1[j] = prop_p1_j\n",
    "            \n",
    "    return(chain)\n",
    "        \n",
    "        \n",
    "    \n",
    "    "
   ]
  },
  {
   "cell_type": "code",
   "execution_count": 63,
   "id": "51ebd130",
   "metadata": {},
   "outputs": [
    {
     "name": "stdout",
     "output_type": "stream",
     "text": [
      "hehe_alpha\n",
      "hehe_beta1\n",
      "hehe_beta2\n",
      "hehe_alpha\n",
      "hehe_beta1\n",
      "hehe_beta2\n",
      "hehe_alpha\n",
      "hehe_beta1\n",
      "hehe_beta2\n",
      "hehe_alpha\n",
      "hehe_beta1\n",
      "hehe_beta2\n",
      "hehe_alpha\n",
      "hehe_beta1\n",
      "hehe_beta2\n",
      "hehe_alpha\n",
      "hehe_beta1\n",
      "hehe_beta2\n",
      "hehe_alpha\n",
      "hehe_beta1\n",
      "hehe_beta2\n",
      "hehe_alpha\n",
      "hehe_beta1\n",
      "hehe_beta2\n",
      "hehe_alpha\n",
      "hehe_beta1\n",
      "hehe_beta2\n",
      "hehe_alpha\n",
      "hehe_beta1\n",
      "hehe_beta2\n"
     ]
    },
    {
     "name": "stderr",
     "output_type": "stream",
     "text": [
      "/var/folders/tg/thybpd9j15j5gx8z__ml1jgm0000gn/T/ipykernel_8071/247855161.py:30: RuntimeWarning: divide by zero encountered in log\n",
      "  top = - (prop**2 / (2 * 1e6)) + sum(r1 * np.log(prop_p1)) + sum((n1 - r1) * np.log(1 - prop_p1))\n",
      "/var/folders/tg/thybpd9j15j5gx8z__ml1jgm0000gn/T/ipykernel_8071/247855161.py:31: RuntimeWarning: divide by zero encountered in log\n",
      "  bottom = - (alpha**2 / (2 * 1e6)) + sum(r1 * np.log(p1)) + sum((n1 - r1) * np.log(1 - p1))\n",
      "/var/folders/tg/thybpd9j15j5gx8z__ml1jgm0000gn/T/ipykernel_8071/247855161.py:33: RuntimeWarning: invalid value encountered in double_scalars\n",
      "  acc_prob = np.exp(top - bottom)\n",
      "/var/folders/tg/thybpd9j15j5gx8z__ml1jgm0000gn/T/ipykernel_8071/247855161.py:47: RuntimeWarning: divide by zero encountered in log\n",
      "  top = - (prop**2 / (2 * 1e6)) + sum(r1 * np.log(prop_p1)) + sum((n1 - r1) * np.log(1 - prop_p1))\n",
      "/var/folders/tg/thybpd9j15j5gx8z__ml1jgm0000gn/T/ipykernel_8071/247855161.py:48: RuntimeWarning: divide by zero encountered in log\n",
      "  bottom = - (beta1**2 / (2 * 1e6)) + sum(r1 * np.log(p1)) + sum((n1 - r1) * np.log(1 - p1))\n",
      "/var/folders/tg/thybpd9j15j5gx8z__ml1jgm0000gn/T/ipykernel_8071/247855161.py:50: RuntimeWarning: invalid value encountered in double_scalars\n",
      "  acc_prob = np.exp(top - bottom)\n",
      "/var/folders/tg/thybpd9j15j5gx8z__ml1jgm0000gn/T/ipykernel_8071/247855161.py:63: RuntimeWarning: divide by zero encountered in log\n",
      "  top = - (prop**2 / (2 * 1e6)) + sum(r1 * np.log(prop_p1)) + sum((n1 - r1) * np.log(1 - prop_p1))\n",
      "/var/folders/tg/thybpd9j15j5gx8z__ml1jgm0000gn/T/ipykernel_8071/247855161.py:64: RuntimeWarning: divide by zero encountered in log\n",
      "  bottom = - (beta2**2 / (2 * 1e6)) + sum(r1 * np.log(p1)) + sum((n1 - r1) * np.log(1 - p1))\n",
      "/var/folders/tg/thybpd9j15j5gx8z__ml1jgm0000gn/T/ipykernel_8071/247855161.py:66: RuntimeWarning: invalid value encountered in double_scalars\n",
      "  acc_prob = np.exp(top - bottom)\n",
      "/var/folders/tg/thybpd9j15j5gx8z__ml1jgm0000gn/T/ipykernel_8071/247855161.py:93: RuntimeWarning: divide by zero encountered in log\n",
      "  top = - (prop**2 / (2 * sigma)) + r1[j] * np.log(prop_p1_j) + (n1[j] - r1[j]) * np.log(1 - prop_p1_j)\n",
      "/var/folders/tg/thybpd9j15j5gx8z__ml1jgm0000gn/T/ipykernel_8071/247855161.py:94: RuntimeWarning: divide by zero encountered in log\n",
      "  bottom = - (b[j]**2 / (2 * sigma)) + r1[j] * np.log(p1[j]) + (n1[j] - r1[j]) * np.log(1 - p1[j])\n",
      "/var/folders/tg/thybpd9j15j5gx8z__ml1jgm0000gn/T/ipykernel_8071/247855161.py:96: RuntimeWarning: invalid value encountered in double_scalars\n",
      "  acc_prob = np.exp(top - bottom)\n"
     ]
    }
   ],
   "source": [
    "lol = Sampler(10, 2, 2, 2, 2, 2*np.ones(len(year)), 2*np.ones(len(year)), 2*np.ones(6), K, r1, n1, r0, n0, year)"
   ]
  },
  {
   "cell_type": "code",
   "execution_count": 64,
   "id": "b73db699",
   "metadata": {},
   "outputs": [
    {
     "data": {
      "text/plain": [
       "11"
      ]
     },
     "execution_count": 64,
     "metadata": {},
     "output_type": "execute_result"
    }
   ],
   "source": [
    "len(lol)"
   ]
  }
 ],
 "metadata": {
  "kernelspec": {
   "display_name": "Python 3 (ipykernel)",
   "language": "python",
   "name": "python3"
  },
  "language_info": {
   "codemirror_mode": {
    "name": "ipython",
    "version": 3
   },
   "file_extension": ".py",
   "mimetype": "text/x-python",
   "name": "python",
   "nbconvert_exporter": "python",
   "pygments_lexer": "ipython3",
   "version": "3.9.7"
  }
 },
 "nbformat": 4,
 "nbformat_minor": 5
}
