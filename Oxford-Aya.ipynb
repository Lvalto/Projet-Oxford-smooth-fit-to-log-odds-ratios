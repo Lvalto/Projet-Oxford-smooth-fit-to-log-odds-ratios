{
 "cells": [
  {
   "cell_type": "code",
   "execution_count": 306,
   "id": "a0478aff",
   "metadata": {},
   "outputs": [],
   "source": [
    "import numpy as np\n",
    "import matplotlib.pyplot as plt\n",
    "from scipy.special import expit\n",
    "from numpy.random import gamma, normal"
   ]
  },
  {
   "cell_type": "code",
   "execution_count": 307,
   "id": "f6d11243",
   "metadata": {},
   "outputs": [],
   "source": [
    "K = 120\n",
    "r1 = np.array([3, 5, 2, 7, 7, 2, 5, 3, 5, 11, 6, 6, 11, 4, 4, 2, 8, 8, 6,  \n",
    "               5, 15, 4, 9, 9, 4, 12, 8, 8, 6, 8, 12, 4, 7, 16, 12, 9, 4, 7, \n",
    "               8, 11, 5, 12, 8, 17, 9, 3, 2, 7, 6, 5, 11, 14, 13, 8, 6, 4, 8, \n",
    "               4, 8, 7, 15, 15, 9, 9, 5, 6, 3, 9, 12, 14, 16, 17, 8, 8, 9, 5, \n",
    "               9, 11, 6, 14, 21, 16, 6, 9, 8, 9, 8, 4, 11, 11, 6, 9, 4, 4, 9, \n",
    "               9, 10, 14, 6, 3, 4, 6, 10, 4, 3, 3, 10, 4, 10, 5, 4, 3, 13, 1, \n",
    "               7, 5, 7, 6, 3, 7])\n",
    "n1 = np.array([28, 21, 32, 35, 35, 38, 30, 43, 49, 53, 31, 35, 46, 53, 61, \n",
    "               40, 29, 44, 52, 55, 61, 31, 48, 44, 42, 53, 56, 71, 43, 43, 43, \n",
    "               40, 44, 70, 75, 71, 37, 31, 42, 46, 47, 55, 63, 91, 43, 39, 35, \n",
    "               32, 53, 49, 75, 64, 69, 64, 49, 29, 40, 27, 48, 43, 61, 77, 55, \n",
    "               60, 46, 28, 33, 32, 46, 57, 56, 78, 58, 52, 31, 28, 46, 42, 45, \n",
    "               63, 71, 69, 43, 50, 31, 34, 54, 46, 58, 62, 52, 41, 34, 52, 63, \n",
    "               59, 88, 62, 47, 53, 57, 74, 68, 61, 45, 45, 62, 73, 53, 39, 45, \n",
    "               51, 55, 41, 53, 51, 42, 46, 54, 32])\n",
    "r0 = np.array([0, 2, 2, 1, 2, 0, 1, 1, 1, 2, 4, 4, 2, 1, 7, 4, 3, 5, 3, 2, \n",
    "               4, 1, 4, 5, 2, 7, 5, 8, 2, 3, 5, 4, 1, 6, 5, 11, 5, 2, 5, 8, \n",
    "               5, 6, 6, 10, 7, 5, 5, 2, 8, 1, 13, 9, 11, 9, 4, 4, 8, 6, 8, 6, \n",
    "               8, 14, 6, 5, 5, 2, 4, 2, 9, 5, 6, 7, 5, 10, 3, 2, 1, 7, 9, 13, \n",
    "               9, 11, 4, 8, 2, 3, 7, 4, 7, 5, 6, 6, 5, 6, 9, 7, 7, 7, 4, 2, \n",
    "               3, 4, 10, 3, 4, 2, 10, 5, 4, 5, 4, 6, 5, 3, 2, 2, 4, 6, 4, 1])\n",
    "n0 = np.array([28, 21, 32, 35, 35, 38, 30, 43, 49, 53, 31, 35, 46, 53, 61, \n",
    "               40, 29, 44, 52, 55, 61, 31, 48, 44, 42, 53, 56, 71, 43, 43, 43, \n",
    "               40, 44, 70, 75, 71, 37, 31, 42, 46, 47, 55, 63, 91, 43, 39, 35, \n",
    "               32, 53, 49, 75, 64, 69, 64, 49, 29, 40, 27, 48, 43, 61, 77, 55, \n",
    "               60, 46, 28, 33, 32, 46, 57, 56, 78, 58, 52, 31, 28, 46, 42, 45, \n",
    "               63, 71, 69, 43, 50, 31, 34, 54, 46, 58, 62, 52, 41, 34, 52, 63, \n",
    "               59, 88, 62, 47, 53, 57, 74, 68, 61, 45, 45, 62, 73, 53, 39, 45, \n",
    "               51, 55, 41, 53, 51, 42, 46, 54, 32])\n",
    "year = np.array([-10, -9, -9, -8, -8, -8, -7, -7, -7, -7, -6, -6, -6, -6, -6, \n",
    "                 -5, -5, -5, -5, -5, -5, -4, -4, -4, -4, -4, -4, -4, -3, -3, -3, \n",
    "                 -3, -3, -3, -3, -3, -2, -2, -2, -2, -2, -2, -2, -2, -2, -1, -1, \n",
    "                 -1, -1, -1, -1, -1, -1, -1, -1, 0, 0, 0, 0, 0, 0, 0, 0, 0, 0, \n",
    "                 1, 1, 1, 1, 1, 1, 1, 1, 1, 1, 2, 2, 2, 2, 2, 2, 2, 2, 2, 3, 3, \n",
    "                 3, 3, 3, 3, 3, 3, 4, 4, 4, 4, 4, 4, 4, 5, 5, 5, 5, 5, 5, 6, 6, \n",
    "                 6, 6, 6, 7, 7, 7, 7, 8, 8, 8, 9, 9, 10])"
   ]
  },
  {
   "cell_type": "code",
   "execution_count": 308,
   "id": "5ea280a0",
   "metadata": {},
   "outputs": [
    {
     "data": {
      "text/plain": [
       "[True, True, True, True, True]"
      ]
     },
     "execution_count": 308,
     "metadata": {},
     "output_type": "execute_result"
    }
   ],
   "source": [
    "[len(r1) == K, len(n1) == K, len(r0) == K, len(n0) == K, len(year) == K]"
   ]
  },
  {
   "cell_type": "code",
   "execution_count": 309,
   "id": "bdad5a3c",
   "metadata": {},
   "outputs": [],
   "source": [
    "init_alpha = 0\n",
    "init_beta1 = 0\n",
    "init_beta2 = 0\n",
    "init_sigma = 1/10\n",
    "init_mu = np.zeros(120)\n",
    "init_b  = np.zeros(120)"
   ]
  },
  {
   "cell_type": "code",
   "execution_count": 310,
   "id": "898889bc",
   "metadata": {},
   "outputs": [],
   "source": [
    "# paramétrisation gamma\n",
    "def Sampler(nchain, init_alpha, init_beta1, init_beta2, init_sigma, init_mu, init_b, prop_sd, K, r1, n1, r0, n0, year):\n",
    "    \n",
    "    alpha = init_alpha\n",
    "    beta1 = init_beta1\n",
    "    beta2 = init_beta2\n",
    "    sigma = init_sigma\n",
    "    mu = init_mu\n",
    "    b = init_b \n",
    "    \n",
    "    log_psi = alpha + beta1 * year + beta2 * (year**2 - 22) + b\n",
    "    p0 = expit(mu)\n",
    "    p1 = expit(mu + log_psi)\n",
    "    \n",
    "    chain = np.zeros((nchain+1, 4))\n",
    "    b_chain = np.zeros((nchain+1, K))\n",
    "    mu_chain = np.zeros((nchain+1, K))\n",
    "    \n",
    "    chain[0,0] = init_alpha\n",
    "    chain[0,1] = init_beta1\n",
    "    chain[0,2] = init_beta2\n",
    "    chain[0,3] = init_sigma\n",
    "    b_chain[0,:] = init_b\n",
    "    mu_chain[0,:] = init_mu\n",
    "\n",
    "    for i in range(nchain):\n",
    "        \n",
    "        # Mise à jour de alpha\n",
    "        prop = normal(loc = alpha, scale = prop_sd[0])\n",
    "        prop_log_psi = prop + beta1 * year + beta2 * (year**2 - 22) + b\n",
    "        prop_p1 = expit(mu + prop_log_psi)\n",
    "        \n",
    "        top = - (prop**2 / (2 * 1e6)) + sum(r1 * np.log(prop_p1)) + sum((n1-r1) * np.log(1 - prop_p1))\n",
    "        bottom = - (alpha**2 / (2 * 1e6)) + sum(r1 * np.log(p1)) + sum((n1-r1) * np.log(1 - p1))\n",
    "        \n",
    "        acc_prob = np.exp(top - bottom)\n",
    "        \n",
    "        if np.random.uniform() < acc_prob:\n",
    "            alpha = prop\n",
    "            log_psi = prop_log_psi\n",
    "            p1 = prop_p1\n",
    "        \n",
    "        # Mise à jour de beta1\n",
    "        prop = normal(loc = beta1, scale = prop_sd[1])\n",
    "        prop_log_psi = alpha + prop * year + beta2 * (year**2 - 22) + b\n",
    "        prop_p1 = expit(mu + prop_log_psi)\n",
    "        \n",
    "        top = - (prop**2 / (2 * 1e6)) + sum(r1 * np.log(prop_p1)) + sum((n1-r1) * np.log(1 - prop_p1))\n",
    "        bottom = - (beta1**2 / (2 * 1e6)) + sum(r1 * np.log(p1)) + sum((n1-r1) * np.log(1 - p1))\n",
    "        \n",
    "        acc_prob = np.exp(top - bottom)\n",
    "        \n",
    "        if np.random.uniform() < acc_prob:\n",
    "            beta1 = prop\n",
    "            log_psi = prop_log_psi\n",
    "            p1 = prop_p1\n",
    "            \n",
    "        # Mise à jour de beta2\n",
    "        prop = normal(loc = beta2, scale = prop_sd[2])\n",
    "        prop_log_psi = alpha + beta1 * year + prop * (year**2 - 22) + b\n",
    "        prop_p1 = expit(mu + prop_log_psi)\n",
    "        \n",
    "        top = - (prop**2 / (2 * 1e6)) + sum(r1 * np.log(prop_p1)) + sum((n1-r1) * np.log(1 - prop_p1))\n",
    "        bottom = - (beta2**2 / (2 * 1e6)) + sum(r1 * np.log(p1)) + sum((n1-r1) * np.log(1 - p1))\n",
    "        \n",
    "        acc_prob = np.exp(top - bottom)\n",
    "        \n",
    "        if np.random.uniform() < acc_prob:\n",
    "            beta2 = prop\n",
    "            log_psi = prop_log_psi\n",
    "            p1 = prop_p1\n",
    "            \n",
    "        # Mise à jour de sigma\n",
    "        sigma = 1 / gamma(shape = 1e-3 + K/2, scale = 1e-3 + 0.5 * sum(b**2))\n",
    "            \n",
    "        for j in range(K):\n",
    "            \n",
    "            # Mise à jour de mu\n",
    "            prop = normal(loc = mu[j], scale = prop_sd[3])\n",
    "            prop_p0_j = expit(prop)\n",
    "            prop_p1_j = expit(prop + log_psi[j])\n",
    "            \n",
    "            top = - (prop**2 / (2 * 1e6)) + r0[j] * np.log(prop_p0_j) + (n0[j] - r0[j]) * np.log(1 - prop_p0_j) + r1[j] * np.log(prop_p1_j) + (n1[j] - r1[j]) * np.log(1 - prop_p1_j)\n",
    "            bottom = - (mu[j]**2 / (2 * 1e6)) + r0[j] * np.log(p0[j]) + (n0[j] - r0[j]) * np.log(1 - p0[j]) + r1[j] * np.log(p1[j]) + (n1[j] - r1[j]) * np.log(1 - p1[j])\n",
    "            \n",
    "            acc_prob = np.exp(top - bottom)\n",
    "            \n",
    "            if np.random.uniform() < acc_prob:\n",
    "                mu[j] = prop\n",
    "                p0[j] = prop_p0_j\n",
    "                p1[j] = prop_p1_j\n",
    "                \n",
    "            # Mise à jour de b\n",
    "            prop = normal(loc = b[j], scale = prop_sd[4])\n",
    "            prop_log_psi_j = alpha + beta1 * year[j] + beta2 * (year[j]**2 - 22) + prop\n",
    "            prop_p1_j = expit(mu[j] + prop_log_psi_j)\n",
    "            \n",
    "            top = - (prop**2 / (2 * sigma)) + r1[j] * np.log(prop_p1_j) + (n1[j] - r1[j]) * np.log(1 - prop_p1_j)\n",
    "            bottom = - (b[j]**2 / (2 * sigma)) + r1[j] * np.log(p1[j]) + (n1[j] - r1[j]) * np.log(1 - p1[j])\n",
    "            \n",
    "            acc_prob = np.exp(top - bottom)\n",
    "            \n",
    "            if np.random.uniform() < acc_prob:\n",
    "                b[j] = prop\n",
    "                log_psi[j] = prop_log_psi_j\n",
    "                p1[j] = prop_p1_j\n",
    "        \n",
    "        # Mise à jour des chaines\n",
    "        chain[i+1,:] = np.array([alpha, beta1, beta2, sigma])\n",
    "        b_chain[i+1,:] = b \n",
    "        mu_chain[i+1,:] = mu\n",
    "        \n",
    "    return(chain, b_chain, mu_chain)  "
   ]
  },
  {
   "cell_type": "code",
   "execution_count": 311,
   "id": "cc708a0b",
   "metadata": {},
   "outputs": [],
   "source": [
    "chain, b_chain, mu_chain = Sampler(10000, init_alpha, init_beta1, init_beta2, init_sigma, init_mu, init_b, 0.1*np.ones(5), K, r1, n1, r0, n0, year)"
   ]
  },
  {
   "cell_type": "code",
   "execution_count": 312,
   "id": "43793f82",
   "metadata": {},
   "outputs": [
    {
     "data": {
      "text/plain": [
       "array([[ 0.00000000e+00,  0.00000000e+00,  0.00000000e+00,\n",
       "         1.00000000e-01],\n",
       "       [-6.11091185e-04,  0.00000000e+00,  0.00000000e+00,\n",
       "         2.08523859e+01],\n",
       "       [-4.18496332e-02,  0.00000000e+00,  0.00000000e+00,\n",
       "         2.97077246e-02],\n",
       "       ...,\n",
       "       [ 5.67373845e-01, -5.23139091e-02,  6.18626417e-03,\n",
       "         1.60151956e-02],\n",
       "       [ 5.67373845e-01, -5.23139091e-02,  6.18626417e-03,\n",
       "         2.21938435e-02],\n",
       "       [ 5.22073056e-01, -5.23139091e-02,  6.18626417e-03,\n",
       "         1.40032902e-02]])"
      ]
     },
     "execution_count": 312,
     "metadata": {},
     "output_type": "execute_result"
    }
   ],
   "source": [
    "chain"
   ]
  },
  {
   "cell_type": "code",
   "execution_count": 313,
   "id": "a9dc3682",
   "metadata": {},
   "outputs": [
    {
     "data": {
      "text/plain": [
       "[<matplotlib.lines.Line2D at 0x7fdb576f1bb0>]"
      ]
     },
     "execution_count": 313,
     "metadata": {},
     "output_type": "execute_result"
    },
    {
     "data": {
      "image/png": "[encoded data removed]",
      "text/plain": [
       "<Figure size 432x288 with 1 Axes>"
      ]
     },
     "metadata": {
      "needs_background": "light"
     },
     "output_type": "display_data"
    }
   ],
   "source": [
    "plt.plot(b_chain[:,10])"
   ]
  },
  {
   "cell_type": "code",
   "execution_count": 324,
   "id": "0f2042d5",
   "metadata": {},
   "outputs": [
    {
     "data": {
      "text/plain": [
       "[<matplotlib.lines.Line2D at 0x7fdb3503e070>]"
      ]
     },
     "execution_count": 324,
     "metadata": {},
     "output_type": "execute_result"
    },
    {
     "data": {
      "image/png": "[encoded data removed]",
      "text/plain": [
       "<Figure size 432x288 with 1 Axes>"
      ]
     },
     "metadata": {
      "needs_background": "light"
     },
     "output_type": "display_data"
    }
   ],
   "source": [
    "plt.plot(mu_chain[:,10][2:])"
   ]
  },
  {
   "cell_type": "code",
   "execution_count": 322,
   "id": "2db242c6",
   "metadata": {},
   "outputs": [],
   "source": [
    "a = np.sqrt()"
   ]
  },
  {
   "cell_type": "code",
   "execution_count": 332,
   "id": "5416abef",
   "metadata": {},
   "outputs": [
    {
     "data": {
      "text/plain": [
       "[<matplotlib.lines.Line2D at 0x7fdb231031f0>]"
      ]
     },
     "execution_count": 332,
     "metadata": {},
     "output_type": "execute_result"
    },
    {
     "data": {
      "image/png": "[encoded data removed]",
      "text/plain": [
       "<Figure size 432x288 with 1 Axes>"
      ]
     },
     "metadata": {
      "needs_background": "light"
     },
     "output_type": "display_data"
    }
   ],
   "source": [
    "plt.plot(chain[:,3])"
   ]
  },
  {
   "cell_type": "code",
   "execution_count": 336,
   "id": "7e083b6d",
   "metadata": {},
   "outputs": [
    {
     "data": {
      "text/plain": [
       "[<matplotlib.lines.Line2D at 0x7fdb13d0ad60>]"
      ]
     },
     "execution_count": 336,
     "metadata": {},
     "output_type": "execute_result"
    },
    {
     "data": {
      "image/png": "[encoded data removed]",
      "text/plain": [
       "<Figure size 432x288 with 1 Axes>"
      ]
     },
     "metadata": {
      "needs_background": "light"
     },
     "output_type": "display_data"
    }
   ],
   "source": [
    "plt.plot(chain[:,2][1000:])"
   ]
  },
  {
   "cell_type": "code",
   "execution_count": 304,
   "id": "807bd7cb",
   "metadata": {},
   "outputs": [],
   "source": [
    "p = np.array([0,2,3,4])"
   ]
  },
  {
   "cell_type": "code",
   "execution_count": 305,
   "id": "3cd2b88b",
   "metadata": {},
   "outputs": [
    {
     "data": {
      "text/plain": [
       "array([ 1, -1, -2, -3])"
      ]
     },
     "execution_count": 305,
     "metadata": {},
     "output_type": "execute_result"
    }
   ],
   "source": [
    "1-p"
   ]
  },
  {
   "cell_type": "code",
   "execution_count": null,
   "id": "b7cd4415",
   "metadata": {},
   "outputs": [],
   "source": []
  }
 ],
 "metadata": {
  "kernelspec": {
   "display_name": "Python 3 (ipykernel)",
   "language": "python",
   "name": "python3"
  },
  "language_info": {
   "codemirror_mode": {
    "name": "ipython",
    "version": 3
   },
   "file_extension": ".py",
   "mimetype": "text/x-python",
   "name": "python",
   "nbconvert_exporter": "python",
   "pygments_lexer": "ipython3",
   "version": "3.9.7"
  }
 },
 "nbformat": 4,
 "nbformat_minor": 5
}
