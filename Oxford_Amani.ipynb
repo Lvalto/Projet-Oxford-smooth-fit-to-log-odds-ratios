{
 "cells": [
  {
   "cell_type": "code",
   "execution_count": 13,
   "id": "18233fa6-2274-48b1-a4aa-b163e2e0a60f",
   "metadata": {},
   "outputs": [],
   "source": [
    "import numpy as np\n",
    "import matplotlib.pyplot as plt\n",
    "from scipy.special import expit\n",
    "from numpy.random import gamma"
   ]
  },
  {
   "cell_type": "markdown",
   "id": "49f96621-1976-4c34-a6d4-a2f298a35891",
   "metadata": {},
   "source": [
    "# DATA"
   ]
  },
  {
   "cell_type": "code",
   "execution_count": 2,
   "id": "8ce7ffa3-209b-4848-bf25-95ba6f37b3c6",
   "metadata": {},
   "outputs": [],
   "source": [
    "K = 120\n",
    "r1 = np.array([3, 5, 2, 7, 7, 2, 5, 3, 5, 11, 6, 6, 11, 4, 4, 2, 8, 8, 6,  \n",
    "               5, 15, 4, 9, 9, 4, 12, 8, 8, 6, 8, 12, 4, 7, 16, 12, 9, 4, 7, \n",
    "               8, 11, 5, 12, 8, 17, 9, 3, 2, 7, 6, 5, 11, 14, 13, 8, 6, 4, 8, \n",
    "               4, 8, 7, 15, 15, 9, 9, 5, 6, 3, 9, 12, 14, 16, 17, 8, 8, 9, 5, \n",
    "               9, 11, 6, 14, 21, 16, 6, 9, 8, 9, 8, 4, 11, 11, 6, 9, 4, 4, 9, \n",
    "               9, 10, 14, 6, 3, 4, 6, 10, 4, 3, 3, 10, 4, 10, 5, 4, 3, 13, 1, \n",
    "               7, 5, 7, 6, 3, 7])\n",
    "n1 = np.array([28, 21, 32, 35, 35, 38, 30, 43, 49, 53, 31, 35, 46, 53, 61, \n",
    "               40, 29, 44, 52, 55, 61, 31, 48, 44, 42, 53, 56, 71, 43, 43, 43, \n",
    "               40, 44, 70, 75, 71, 37, 31, 42, 46, 47, 55, 63, 91, 43, 39, 35, \n",
    "               32, 53, 49, 75, 64, 69, 64, 49, 29, 40, 27, 48, 43, 61, 77, 55, \n",
    "               60, 46, 28, 33, 32, 46, 57, 56, 78, 58, 52, 31, 28, 46, 42, 45, \n",
    "               63, 71, 69, 43, 50, 31, 34, 54, 46, 58, 62, 52, 41, 34, 52, 63, \n",
    "               59, 88, 62, 47, 53, 57, 74, 68, 61, 45, 45, 62, 73, 53, 39, 45, \n",
    "               51, 55, 41, 53, 51, 42, 46, 54, 32])\n",
    "r0 = np.array([0, 2, 2, 1, 2, 0, 1, 1, 1, 2, 4, 4, 2, 1, 7, 4, 3, 5, 3, 2, \n",
    "               4, 1, 4, 5, 2, 7, 5, 8, 2, 3, 5, 4, 1, 6, 5, 11, 5, 2, 5, 8, \n",
    "               5, 6, 6, 10, 7, 5, 5, 2, 8, 1, 13, 9, 11, 9, 4, 4, 8, 6, 8, 6, \n",
    "               8, 14, 6, 5, 5, 2, 4, 2, 9, 5, 6, 7, 5, 10, 3, 2, 1, 7, 9, 13, \n",
    "               9, 11, 4, 8, 2, 3, 7, 4, 7, 5, 6, 6, 5, 6, 9, 7, 7, 7, 4, 2, \n",
    "               3, 4, 10, 3, 4, 2, 10, 5, 4, 5, 4, 6, 5, 3, 2, 2, 4, 6, 4, 1])\n",
    "n0 = np.array([28, 21, 32, 35, 35, 38, 30, 43, 49, 53, 31, 35, 46, 53, 61, \n",
    "               40, 29, 44, 52, 55, 61, 31, 48, 44, 42, 53, 56, 71, 43, 43, 43, \n",
    "               40, 44, 70, 75, 71, 37, 31, 42, 46, 47, 55, 63, 91, 43, 39, 35, \n",
    "               32, 53, 49, 75, 64, 69, 64, 49, 29, 40, 27, 48, 43, 61, 77, 55, \n",
    "               60, 46, 28, 33, 32, 46, 57, 56, 78, 58, 52, 31, 28, 46, 42, 45, \n",
    "               63, 71, 69, 43, 50, 31, 34, 54, 46, 58, 62, 52, 41, 34, 52, 63, \n",
    "               59, 88, 62, 47, 53, 57, 74, 68, 61, 45, 45, 62, 73, 53, 39, 45, \n",
    "               51, 55, 41, 53, 51, 42, 46, 54, 32])\n",
    "year = np.array([-10, -9, -9, -8, -8, -8, -7, -7, -7, -7, -6, -6, -6, -6, -6, \n",
    "                 -5, -5, -5, -5, -5, -5, -4, -4, -4, -4, -4, -4, -4, -3, -3, -3, \n",
    "                 -3, -3, -3, -3, -3, -2, -2, -2, -2, -2, -2, -2, -2, -2, -1, -1, \n",
    "                 -1, -1, -1, -1, -1, -1, -1, -1, 0, 0, 0, 0, 0, 0, 0, 0, 0, 0, \n",
    "                 1, 1, 1, 1, 1, 1, 1, 1, 1, 1, 2, 2, 2, 2, 2, 2, 2, 2, 2, 3, 3, \n",
    "                 3, 3, 3, 3, 3, 3, 4, 4, 4, 4, 4, 4, 4, 5, 5, 5, 5, 5, 5, 6, 6, \n",
    "                 6, 6, 6, 7, 7, 7, 7, 8, 8, 8, 9, 9, 10])"
   ]
  },
  {
   "cell_type": "markdown",
   "id": "cd2a9aad-6d04-490e-9a74-5f536356b4e1",
   "metadata": {},
   "source": [
    "# INIT"
   ]
  },
  {
   "cell_type": "code",
   "execution_count": 17,
   "id": "52b91936-6c81-4bfe-bf9f-e060d8ff5f96",
   "metadata": {},
   "outputs": [],
   "source": [
    "alpha = 0\n",
    "beta1 = 0\n",
    "beta2 = 0\n",
    "sigma2 = 1\n",
    "mu = np.array([0,0,0,0,0,0,0,0,0,0,\n",
    "        0,0,0,0,0,0,0,0,0,0,0,0,0,0,0,0,0,0,0,0,0,0,0,0,0,0,0,0,0,0,0,0,0,0,0,0,0,0,0,0,0,0,0,0,0,0,0,0,0,0,0,0,0,0,0,0,0,0,0,0,0,0,0,0,0,0,0,0,0,0, 0,0,0,0,0,0,0,0,0,0,0,0,0,0,0,0,0,0,0,0,0,0,0,0,0,0,0,0,0,0,0,0,0,0,0,0,0,0,0,0])\n",
    "b = np.array([0,0,0,0,0,0,0,0,0,0,\n",
    "        0,0,0,0,0,0,0,0,0,0,0,0,0,0,0,0,0,0,0,0,0,0,0,0,0,0,0,0,0,0,0,0,0,0,0,0,0,0,0,0,0,0,0,0,0,0,0,0,0,0,0,0,0,0,0,0,0,0,0,0,0,0,0,0,0,0,0,0,0,0, 0,0,0,0,0,0,0,0,0,0,0,0,0,0,0,0,0,0,0,0,0,0,0,0,0,0,0,0,0,0,0,0,0,0,0,0,0,0,0,0])"
   ]
  },
  {
   "cell_type": "markdown",
   "id": "e3b3e3f6-e58d-4da6-a94e-f331f45952d7",
   "metadata": {},
   "source": [
    "# Function"
   ]
  },
  {
   "cell_type": "code",
   "execution_count": 60,
   "id": "46960b7e-b190-4c93-b205-dc8dbe58a329",
   "metadata": {},
   "outputs": [],
   "source": [
    "def Sampler(nchain, init_alpha, init_beta1, init_beta2, init_sigma2, init_mu, init_b, prop_sd, K, r1, n1, r0, n0, year):\n",
    "    \n",
    "    # Initialiser des parametres du modele\n",
    "    alpha = init_alpha\n",
    "    beta1 = init_beta1\n",
    "    beta2 = init_beta2\n",
    "    mu = init_mu\n",
    "    b = init_b\n",
    "    sigma2 = init_sigma2\n",
    "    \n",
    "    \n",
    "    chain = np.empty((nchain+1, 4), dtype = object)\n",
    "    chain[0,] = np.array([alpha,beta1,beta2,sigma2])\n",
    "    \n",
    "    \n",
    "    b_chain = np.zeros((nchain+1, K))\n",
    "    mu_chain = np.zeros((nchain+1, K))\n",
    "    b_chain[0,] = b \n",
    "    mu_chain[0,] = mu\n",
    "\n",
    "    \n",
    "    log_psi = alpha + beta1 * year + beta2 * (year**2 - 22) + b\n",
    "    p0 = expit(mu)\n",
    "    p1 = expit(mu + log_psi)\n",
    "    \n",
    "    \n",
    "    for i in range(nchain):\n",
    "        \n",
    "        # Mise à jour de alpha\n",
    "        prop = np.random.normal(alpha, prop_sd[0])\n",
    "        log_psi_prop = prop + beta1 * year + beta2 * (year**2 - 22) + b\n",
    "        p1_prop = expit(mu + log_psi_prop)\n",
    "        \n",
    "        top = - (prop**2 / (2 * 1e6)) + sum(r1 * np.log(p1_prop)) + sum((n1 - r1) * np.log(1 - p1_prop))\n",
    "        bottom = - (alpha**2 / (2 * 1e6)) + sum(r1 * np.log(p1)) + sum((n1 - r1) * np.log(1 - p1))\n",
    "        \n",
    "        acc_prob = np.exp(top - bottom)\n",
    "        \n",
    "        if np.random.uniform() < acc_prob:\n",
    "            alpha = prop\n",
    "            log_psi = log_psi_prop\n",
    "            p1 = p1_prop\n",
    "        \n",
    "        # Mise à jour de beta1\n",
    "        prop = np.random.normal(beta1, prop_sd[1])\n",
    "        log_psi_prop = alpha + prop * year + beta2 * (year^2 - 22) + b\n",
    "        p1_prop = expit(mu + log_psi_prop)\n",
    "        \n",
    "        top = - (prop**2 / (2 * 1e6)) + sum(r1 * np.log(p1_prop)) + sum((n1 - r1) * np.log(1 - p1_prop))\n",
    "        bottom = - (beta1**2 / (2 * 1e6)) + sum(r1 * np.log(p1)) + sum((n1 - r1) * np.log(1 - p1))\n",
    "        \n",
    "        acc_prob = np.exp(top - bottom)\n",
    "        \n",
    "        if np.random.uniform() < acc_prob:\n",
    "            beta1 = prop\n",
    "            log_psi = log_psi_prop\n",
    "            p1 = p1_prop\n",
    "                      \n",
    "                           \n",
    "        # Mise à jour de beta2\n",
    "        prop = np.random.normal(beta2, prop_sd[2])\n",
    "        log_psi_prop = alpha + beta1 * year + prop * (year^2 - 22) + b\n",
    "        p1_prop = expit(mu + log_psi_prop)\n",
    "        \n",
    "        top = - (prop**2 / (2 * 1e6)) + sum(r1 * np.log(p1_prop)) + sum((n1 - r1) * np.log(1 - p1_prop))\n",
    "        bottom = - (beta2**2 / (2 * 1e6)) + sum(r1 * np.log(p1)) + sum((n1 - r1) * np.log(1 - p1))\n",
    "        \n",
    "        acc_prob = np.exp(top - bottom)\n",
    "\n",
    "        if np.random.uniform() < acc_prob:\n",
    "            beta2 = prop\n",
    "            log_psi = log_psi_prop\n",
    "            p1 = p1_prop\n",
    "            \n",
    "        #Mise à jour de sigma2 \n",
    "        \n",
    "        sigma2 = 1 / gamma(shape = 1e-3 + K/2, scale= 1/(1e-3 + 0.5 * sum(b**2)))\n",
    "        \n",
    "        \n",
    "        chain[i+1,] = np.array([alpha,beta1,beta2,sigma2])\n",
    "        \n",
    "        # Mise à jour de mu \n",
    "        \n",
    "        for j in range(K):\n",
    "\n",
    "            prop = np.random.normal(mu[j], prop_sd[3])\n",
    "            p0j_prop = expit(prop)\n",
    "            p1j_prop = expit(prop + log_psi[j])\n",
    "            \n",
    "            top = - (prop**2 / (2 * 1e6)) + r0[j] * np.log(p0j_prop) + (n0[j] - r0[j]) * np.log(1 - p0j_prop) + r1[j] * np.log(p1j_prop) \n",
    "            + (n1[j] - r1[j]) * np.log(1 - p1j_prop)\n",
    "            bottom = - (mu[j]**2 / (2 * 1e6)) + r0[j] * np.log(p0[j]) + (n0[j] - r0[j]) * np.log(1 - p0[j]) + r1[j] * np.log(p1[j]) \n",
    "            + (n1[j] - r1[j]) * np.log(1 - p1[j])\n",
    "            \n",
    "            acc_prob = np.exp(top - bottom)\n",
    "            if np.random.uniform() < acc_prob:\n",
    "                mu[j] = prop\n",
    "                p0[j] = p0j_prop\n",
    "                p1[j] = p1j_prop\n",
    "                \n",
    "            # Mise à jour de b\n",
    "        for k in range(K):\n",
    "\n",
    "            prop = np.random.normal(b[k], prop_sd[4]) \n",
    "            log_psi_prop = alpha + beta1 * year + prop * (year^2 - 22) + prop\n",
    "            p1k_prop = expit(prop + log_psi_prop[k])\n",
    "            \n",
    "            top = - (prop**2 / (2 * 1e6)) + r1[k] * np.log(p1k_prop) + (n1[k] - r1[k]) * np.log(1 - p1k_prop)\n",
    "            bottom = - (b[k]**2 / (2 * 1e6)) + r1[k] * np.log(p1[k]) + (n1[j] - r1[j]) * np.log(1 - p1[k])\n",
    "            \n",
    "            acc_prob = np.exp(top - bottom)\n",
    "            if np.random.uniform() < acc_prob:\n",
    "                b[k] = prop\n",
    "                log_psi = log_psi_prop\n",
    "                p1[k] = p1k_prop\n",
    "                \n",
    "        \n",
    "        b_chain[i+1,:] = b \n",
    "        mu_chain[i+1,:] = mu\n",
    "        \n",
    "    return(chain,b_chain,mu_chain)"
   ]
  },
  {
   "cell_type": "code",
   "execution_count": null,
   "id": "4b374605-4624-4cd3-876b-e832d4f4f161",
   "metadata": {},
   "outputs": [],
   "source": [
    "prop_sd = [0.1,0.1,0.1,0.1,0.1]\n",
    "R = Sampler(10000, alpha, beta1, beta2, sigma2, mu, b, prop_sd, K, r1, n1, r0, n0, year)"
   ]
  },
  {
   "cell_type": "code",
   "execution_count": null,
   "id": "2eb6f14e-96bd-4b9f-a1fb-aab0d749cd34",
   "metadata": {},
   "outputs": [],
   "source": [
    "R"
   ]
  },
  {
   "cell_type": "code",
   "execution_count": 40,
   "id": "a06210d7-bcae-42b2-9ed3-0f73e9ecfb31",
   "metadata": {},
   "outputs": [
    {
     "data": {
      "text/plain": [
       "array([None, None, None, None], dtype=object)"
      ]
     },
     "execution_count": 40,
     "metadata": {},
     "output_type": "execute_result"
    }
   ],
   "source": [
    "chain = np.empty((3, 4), dtype = object)\n",
    "chain[0,] = np.array"
   ]
  },
  {
   "cell_type": "code",
   "execution_count": null,
   "id": "0f0c9809-11e6-4fe3-9380-f488977ad6aa",
   "metadata": {},
   "outputs": [],
   "source": []
  }
 ],
 "metadata": {
  "kernelspec": {
   "display_name": "Python 3 (ipykernel)",
   "language": "python",
   "name": "python3"
  },
  "language_info": {
   "codemirror_mode": {
    "name": "ipython",
    "version": 3
   },
   "file_extension": ".py",
   "mimetype": "text/x-python",
   "name": "python",
   "nbconvert_exporter": "python",
   "pygments_lexer": "ipython3",
   "version": "3.9.7"
  }
 },
 "nbformat": 4,
 "nbformat_minor": 5
}
